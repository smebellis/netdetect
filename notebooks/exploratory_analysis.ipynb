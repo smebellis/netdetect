{
 "cells": [
  {
   "cell_type": "code",
   "execution_count": 1,
   "metadata": {},
   "outputs": [],
   "source": [
    "import pandas as pd\n",
    "from glob import glob\n",
    "import matplotlib.pyplot as plt\n",
    "from sklearn.impute import SimpleImputer\n",
    "import numpy as np\n",
    "from sklearn.model_selection import train_test_split, cross_val_score, GridSearchCV\n",
    "from sklearn.feature_extraction.text import CountVectorizer\n",
    "from sklearn.feature_selection import mutual_info_classif\n",
    "from sklearn.ensemble import RandomForestClassifier\n",
    "from sklearn.metrics import accuracy_score, recall_score, confusion_matrix, f1_score, precision_score, make_scorer\n",
    "from sklearn.preprocessing import StandardScaler, MinMaxScaler\n",
    "from sklearn.decomposition import PCA\n",
    "from sklearn.preprocessing import LabelEncoder, OneHotEncoder\n",
    "from imblearn.over_sampling import SMOTE\n",
    "from imblearn.ensemble import BalancedRandomForestClassifier\n",
    "import seaborn as sns\n",
    "import warnings\n",
    "\n",
    "\n",
    "%matplotlib inline\n",
    "#Ignore all warnings\n",
    "warnings.filterwarnings('ignore', category=FutureWarning)"
   ]
  },
  {
   "cell_type": "code",
   "execution_count": 5,
   "metadata": {},
   "outputs": [],
   "source": [
    "# Read in the dataset, combine the individual files and contenate the files into one\n",
    "csv_files = glob(\"../data/raw/MachineLearningCSV/MachineLearningCVE/*.csv\")\n",
    "dataframes = [pd.read_csv(file) for file in csv_files]      \n",
    "combined_df = pd.concat(dataframes, ignore_index=True)"
   ]
  },
  {
   "cell_type": "code",
   "execution_count": 6,
   "metadata": {},
   "outputs": [],
   "source": [
    "# Replace all the inf values with NaNs before replacing them\n",
    "combined_df.replace([np.inf, -np.inf], np.nan, inplace=True)\n",
    "\n",
    "# Drop NaN values\n",
    "combined_df.dropna(inplace=True)\n",
    "\n",
    "# Check if there are duplicates in the dataframe.  \n",
    "combined_df.duplicated().sum()\n",
    "combined_df.drop_duplicates(inplace=True)\n",
    "\n",
    "combined_df.to_pickle('../data/processed/combined_df.pkl')"
   ]
  },
  {
   "cell_type": "code",
   "execution_count": 2,
   "metadata": {},
   "outputs": [],
   "source": [
    "combined_df = pd.read_pickle(\"../data/processed/combined_df.pkl\")"
   ]
  },
  {
   "cell_type": "code",
   "execution_count": 8,
   "metadata": {},
   "outputs": [
    {
     "name": "stdout",
     "output_type": "stream",
     "text": [
      "Categorical Columns: [' Label']\n",
      "Number of Categorical Columns: 1\n"
     ]
    }
   ],
   "source": [
    "numerical_columns = combined_df.select_dtypes(include=['number']).columns.tolist()\n",
    "categorical_columns = combined_df.select_dtypes(include=['object', 'category']).columns.to_list()\n",
    "num_categories = len(categorical_columns)\n",
    "\n",
    "print(f\"Categorical Columns: {categorical_columns}\")\n",
    "print(f\"Number of Categorical Columns: {num_categories}\")"
   ]
  },
  {
   "cell_type": "code",
   "execution_count": null,
   "metadata": {},
   "outputs": [],
   "source": [
    "labels  = combined_df[' Label']\n",
    "indicies = range(len(labels))\n",
    "\n",
    "plt.figure(figsize=(10, 6))\n",
    "plt.scatter(indicies, labels, alpha=0.5, color=\"skyblue\")\n",
    "plt.title(\"Scatter Plot of Class Distribution\")\n",
    "plt.xlabel(\"Index\")\n",
    "plt.ylabel('Label')\n",
    "plt.xticks(rotation=45)\n",
    "plt.show()"
   ]
  },
  {
   "cell_type": "code",
   "execution_count": null,
   "metadata": {},
   "outputs": [],
   "source": [
    "class_counts = combined_df[' Label'].value_counts()\n",
    "\n",
    "sorted_class_counts = class_counts.sort_values(ascending=True)\n",
    "\n",
    "# Plot the class distribution\n",
    "plt.figure(figsize=(10, 10))\n",
    "sorted_class_counts.plot(kind='barh', color='skyblue')\n",
    "plt.title('Class Distribution')\n",
    "plt.xlabel('Count')\n",
    "plt.ylabel('Label')\n",
    "plt.xticks(rotation=45)\n",
    "plt.show()"
   ]
  },
  {
   "cell_type": "code",
   "execution_count": null,
   "metadata": {},
   "outputs": [],
   "source": [
    "class_counts"
   ]
  },
  {
   "cell_type": "code",
   "execution_count": 3,
   "metadata": {},
   "outputs": [],
   "source": [
    "le = LabelEncoder()\n",
    "combined_df[' Label'] = le.fit_transform(combined_df[' Label'])"
   ]
  },
  {
   "cell_type": "code",
   "execution_count": 4,
   "metadata": {},
   "outputs": [
    {
     "name": "stdout",
     "output_type": "stream",
     "text": [
      "Encoded Labels: 0          0\n",
      "1          0\n",
      "2          0\n",
      "3          0\n",
      "4          0\n",
      "          ..\n",
      "2830737    0\n",
      "2830738    0\n",
      "2830739    0\n",
      "2830740    0\n",
      "2830742    0\n",
      "Name:  Label, Length: 2520798, dtype: int64\n",
      "Decoded Labels: ['BENIGN' 'BENIGN' 'BENIGN' ... 'BENIGN' 'BENIGN' 'BENIGN']\n"
     ]
    }
   ],
   "source": [
    "decoded_labels = le.inverse_transform(combined_df[' Label'])\n",
    "\n",
    "print(f\"Encoded Labels: {combined_df[' Label']}\")\n",
    "print(f\"Decoded Labels: {decoded_labels}\")"
   ]
  },
  {
   "cell_type": "code",
   "execution_count": null,
   "metadata": {},
   "outputs": [],
   "source": [
    "scaler = StandardScaler()\n",
    "combined_df['numerical_columns'] = scaler.fit_transform(combined_df[numerical_columns])"
   ]
  },
  {
   "cell_type": "code",
   "execution_count": 5,
   "metadata": {},
   "outputs": [
    {
     "name": "stdout",
     "output_type": "stream",
     "text": [
      "X_train shape: (2016638, 78)\n",
      "X_test shape: (504160, 78)\n",
      "y_train shape: (2016638,)\n",
      "y_test shape: (504160,)\n"
     ]
    }
   ],
   "source": [
    "# Split the data\n",
    "\n",
    "X = combined_df.drop(' Label', axis=1)\n",
    "y = combined_df[' Label']\n",
    "\n",
    "X_train, X_test, y_train, y_test = train_test_split(X, y, random_state=42, train_size=0.8)\n",
    "\n",
    "# Print the shapes of the training and testing sets\n",
    "print(f\"X_train shape: {X_train.shape}\")\n",
    "print(f\"X_test shape: {X_test.shape}\")\n",
    "print(f\"y_train shape: {y_train.shape}\")\n",
    "print(f\"y_test shape: {y_test.shape}\")"
   ]
  },
  {
   "cell_type": "code",
   "execution_count": 7,
   "metadata": {},
   "outputs": [
    {
     "name": "stdout",
     "output_type": "stream",
     "text": [
      "Counter({0: 1675906, 4: 138335, 2: 102458, 10: 72627, 3: 8191, 7: 4755, 6: 4312, 5: 4150, 11: 2585, 1: 1568, 12: 1162, 14: 525, 9: 35, 13: 20, 8: 9})\n"
     ]
    }
   ],
   "source": [
    "from collections import Counter\n",
    "\n",
    "class_counts = Counter(y_train)\n",
    "print(class_counts)"
   ]
  },
  {
   "cell_type": "code",
   "execution_count": 8,
   "metadata": {},
   "outputs": [
    {
     "name": "stdout",
     "output_type": "stream",
     "text": [
      "{0: 0.08022080792916389, 4: 0.9718620257587258, 2: 1.3121721420809829, 10: 1.8511370885942326, 3: 16.413445651731575, 7: 28.273929197336138, 12: 115.69925415949513, 11: 52.00871695680206, 6: 31.1786951144094, 5: 32.39579116465863, 1: 85.74141156462585, 14: 256.0810158730159, 8: 14938.059259259258, 9: 3841.215238095238, 13: 6722.126666666667}\n"
     ]
    }
   ],
   "source": [
    "total_samples = sum(class_counts.values())\n",
    "number_classes = len(class_counts)\n",
    "\n",
    "class_weights = {cls: total_samples / (number_classes * count) for cls, count in class_counts.items()}\n",
    "\n",
    "print(class_weights)"
   ]
  },
  {
   "cell_type": "code",
   "execution_count": 9,
   "metadata": {},
   "outputs": [],
   "source": [
    "# Define the parameter grid\n",
    "\n",
    "param_grid = {\n",
    "    'n_estimators': [50, 75, 100],\n",
    "    'max_samples': [0.25, 0.5, 0.75],\n",
    "    'max_depth': [2, 4, 6],\n",
    "    'criterion': ['gini', 'entropy']\n",
    "}\n",
    "\n",
    "# Define the scoring metrics\n",
    "scoring = {\n",
    "    'accuracy': make_scorer(accuracy_score),\n",
    "    'recall': make_scorer(recall_score, average='weighted'),\n",
    "    'precision': make_scorer(precision_score, average='weighted'),\n",
    "    'f1': make_scorer(f1_score, average='weighted')\n",
    "}"
   ]
  },
  {
   "cell_type": "code",
   "execution_count": 10,
   "metadata": {},
   "outputs": [
    {
     "ename": "",
     "evalue": "",
     "output_type": "error",
     "traceback": [
      "\u001b[1;31mThe Kernel crashed while executing code in the current cell or a previous cell. \n",
      "\u001b[1;31mPlease review the code in the cell(s) to identify a possible cause of the failure. \n",
      "\u001b[1;31mClick <a href='https://aka.ms/vscodeJupyterKernelCrash'>here</a> for more info. \n",
      "\u001b[1;31mView Jupyter <a href='command:jupyter.viewOutput'>log</a> for further details."
     ]
    }
   ],
   "source": [
    "clf = RandomForestClassifier(verbose=1, class_weight=class_weights)\n",
    "\n",
    "grid_search = GridSearchCV(estimator=clf, param_grid=param_grid, scoring=scoring, refit='f1', cv=3, n_jobs=-1)\n",
    "\n",
    "grid_search.fit(X_train, y_train)\n",
    "\n",
    "best_clf = grid_search.best_estimator_\n",
    "\n",
    "y_pred = best_clf.predict(X_test)\n",
    "\n",
    "# Evaluate the model\n",
    "accuracy = accuracy_score(y_test, y_pred)\n",
    "recall = recall_score(y_test, y_pred, average='weighted')\n",
    "precision = precision_score(y_test, y_pred, average='weighted')\n",
    "f1 = f1_score(y_test, y_pred, average='weighted')\n",
    "\n",
    "print(f\"Best Parameters: {grid_search.best_params_}\")\n",
    "print(f\"Accuracy: {accuracy}\")\n",
    "print(f\"Recall: {recall}\")\n",
    "print(f\"Precision: {precision}\")\n",
    "print(f\"F1 Score: {f1}\")\n"
   ]
  },
  {
   "cell_type": "code",
   "execution_count": null,
   "metadata": {},
   "outputs": [],
   "source": [
    "clf = BalancedRandomForestClassifier(sampling_strategy=\"all\", criterion=\"entropy\", random_state=42)\n",
    "clf_random = RandomForestClassifier()\n",
    "# Initialize GridSearchCV\n",
    "grid_search = GridSearchCV(estimator=clf, param_grid=param_grid, scoring=scoring, refit='f1', cv=3, n_jobs=-1)\n",
    "\n",
    "# Fit the model\n",
    "grid_search.fit(X_train, y_train)\n",
    "\n",
    "# Get the best estimator\n",
    "best_clf = grid_search.best_estimator_\n",
    "\n",
    "# Make predictions on the test set\n",
    "y_pred = best_clf.predict(X_test)\n",
    "\n",
    "# Evaluate the model\n",
    "accuracy = accuracy_score(y_test, y_pred)\n",
    "recall = recall_score(y_test, y_pred, average='weighted')\n",
    "precision = precision_score(y_test, y_pred, average='weighted')\n",
    "f1 = f1_score(y_test, y_pred, average='weighted')\n",
    "\n",
    "print(f\"Best Parameters: {grid_search.best_params_}\")\n",
    "print(f\"Accuracy: {accuracy}\")\n",
    "print(f\"Recall: {recall}\")\n",
    "print(f\"Precision: {precision}\")\n",
    "print(f\"F1 Score: {f1}\")\n",
    "\n",
    "# Calculate the count of each predicted class label\n",
    "predicted_class_counts = pd.Series(y_pred).value_counts()\n",
    "\n",
    "# Plot the class distribution as a horizontal bar chart\n",
    "# plt.figure(figsize=(10, 6))\n",
    "# predicted_class_counts.sort_values(ascending=True).plot(kind='barh', color='skyblue')\n",
    "# plt.title('Class Distribution After Balanced Random Forest')\n",
    "# plt.xlabel('Count')\n",
    "# plt.ylabel('Class Label')\n",
    "# plt.show()\n"
   ]
  },
  {
   "cell_type": "code",
   "execution_count": 11,
   "metadata": {},
   "outputs": [],
   "source": [
    "importances = best_clf.feature_importances_"
   ]
  },
  {
   "cell_type": "code",
   "execution_count": 12,
   "metadata": {},
   "outputs": [],
   "source": [
    "features = X.columns\n",
    "importance_df = pd.DataFrame({'Features':features, 'Importance': importances})\n",
    "importance_df = importance_df.sort_values(by='Importance', ascending=False)\n"
   ]
  },
  {
   "cell_type": "code",
   "execution_count": null,
   "metadata": {},
   "outputs": [],
   "source": [
    "plt.figure(figsize=(10, 12))\n",
    "plt.barh(importance_df[\"Features\"], importance_df['Importance'], color='skyblue')\n",
    "plt.xlabel(\"importance\")\n",
    "plt.ylabel('Feature')\n",
    "plt.title('Feature Importances')\n",
    "plt.gca().invert_yaxis()\n",
    "plt.show()"
   ]
  },
  {
   "cell_type": "code",
   "execution_count": 6,
   "metadata": {},
   "outputs": [
    {
     "ename": "",
     "evalue": "",
     "output_type": "error",
     "traceback": [
      "\u001b[1;31mThe Kernel crashed while executing code in the current cell or a previous cell. \n",
      "\u001b[1;31mPlease review the code in the cell(s) to identify a possible cause of the failure. \n",
      "\u001b[1;31mClick <a href='https://aka.ms/vscodeJupyterKernelCrash'>here</a> for more info. \n",
      "\u001b[1;31mView Jupyter <a href='command:jupyter.viewOutput'>log</a> for further details."
     ]
    }
   ],
   "source": [
    "smote = SMOTE(random_state=42)\n",
    "X_res, y_res = smote.fit_resample(X_train, y_train)"
   ]
  },
  {
   "cell_type": "code",
   "execution_count": 10,
   "metadata": {},
   "outputs": [],
   "source": [
    "label_counts = combined_df[' Label'].value_counts()"
   ]
  },
  {
   "cell_type": "code",
   "execution_count": 11,
   "metadata": {},
   "outputs": [],
   "source": [
    "label_percentages = (label_counts / label_counts.sum()) * 100"
   ]
  },
  {
   "cell_type": "code",
   "execution_count": null,
   "metadata": {},
   "outputs": [],
   "source": [
    "plt.figure(figsize=(10, 6))\n",
    "label_percentages.plot(kind='bar')\n",
    "plt.title(\"Label Counts as Percentage of Total Labels\")\n",
    "plt.xlabel('Labels')\n",
    "plt.ylabel(\"Percentage\")\n",
    "\n",
    "plt.show()"
   ]
  },
  {
   "cell_type": "code",
   "execution_count": null,
   "metadata": {},
   "outputs": [],
   "source": [
    "plt.plot(combined_df[' Label'])"
   ]
  },
  {
   "cell_type": "code",
   "execution_count": 37,
   "metadata": {},
   "outputs": [],
   "source": [
    "combined_df[' Label'] = combined_df[' Label'].apply(lambda x: 0 if x == 'BENIGN' else 1)\n"
   ]
  }
 ],
 "metadata": {
  "kernelspec": {
   "display_name": "development2",
   "language": "python",
   "name": "python3"
  },
  "language_info": {
   "codemirror_mode": {
    "name": "ipython",
    "version": 3
   },
   "file_extension": ".py",
   "mimetype": "text/x-python",
   "name": "python",
   "nbconvert_exporter": "python",
   "pygments_lexer": "ipython3",
   "version": "3.10.14"
  }
 },
 "nbformat": 4,
 "nbformat_minor": 2
}
